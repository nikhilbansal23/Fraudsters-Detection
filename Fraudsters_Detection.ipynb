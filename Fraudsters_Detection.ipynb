{
  "nbformat": 4,
  "nbformat_minor": 0,
  "metadata": {
    "colab": {
      "provenance": [],
      "mount_file_id": "1xnNlW7a3Mj129umKc1WGuw09Xy9JcSWx",
      "authorship_tag": "ABX9TyOv3kxxsEvXUAr31ceU/zGX",
      "include_colab_link": true
    },
    "kernelspec": {
      "name": "python3",
      "display_name": "Python 3"
    },
    "language_info": {
      "name": "python"
    }
  },
  "cells": [
    {
      "cell_type": "markdown",
      "metadata": {
        "id": "view-in-github",
        "colab_type": "text"
      },
      "source": [
        "<a href=\"https://colab.research.google.com/github/nikhilbansal23/Fraudsters-Detection/blob/main/Fraudsters_Detection.ipynb\" target=\"_parent\"><img src=\"https://colab.research.google.com/assets/colab-badge.svg\" alt=\"Open In Colab\"/></a>"
      ]
    },
    {
      "cell_type": "code",
      "execution_count": 47,
      "metadata": {
        "id": "H6OJ611ZwzeT"
      },
      "outputs": [],
      "source": [
        "#imposting libraries\n",
        "import numpy as np # linear algebra\n",
        "import pandas as pd # data processing, CSV file I/O (e.g. pd.read_csv)\n",
        "import matplotlib.pyplot as plt\n",
        "import seaborn as sns\n",
        "import plotly.express as pl"
      ]
    },
    {
      "cell_type": "code",
      "source": [
        "countries = pd.read_csv(\"/content/drive/MyDrive/Datasets/Revoluts Fraudsters Detection/countries.csv\")\n",
        "currency_details = pd.read_csv(\"/content/drive/MyDrive/Datasets/Revoluts Fraudsters Detection/currency_details.csv\")\n",
        "transactions = pd.read_csv(\"/content/drive/MyDrive/Datasets/Revoluts Fraudsters Detection/transactions.csv\")\n",
        "users = pd.read_csv(\"/content/drive/MyDrive/Datasets/Revoluts Fraudsters Detection/users.csv\")\n"
      ],
      "metadata": {
        "id": "8Xe_XbPzxabm"
      },
      "execution_count": 2,
      "outputs": []
    },
    {
      "cell_type": "code",
      "source": [
        "#this stops data truncation\n",
        "pd.set_option('display.max_columns', None)\n",
        "pd.set_option('display.max_rows', None)"
      ],
      "metadata": {
        "id": "7jvtPiLkzm1g"
      },
      "execution_count": 14,
      "outputs": []
    },
    {
      "cell_type": "code",
      "source": [
        "print(\"Total records in users data frame \" + str(len(users)))\n",
        "print(\"Total records in transaction data frame \" + str(len(transactions)))\n",
        "print(\"Total records in countries data frame \" + str(len(countries)))\n",
        "print(\"Total records in currency_details data frame \" + str(len(currency_details)))\n"
      ],
      "metadata": {
        "colab": {
          "base_uri": "https://localhost:8080/"
        },
        "id": "9jvKfMIO0nOT",
        "outputId": "afa6c6b0-d8b3-4447-9221-2badcc880bd4"
      },
      "execution_count": 36,
      "outputs": [
        {
          "output_type": "stream",
          "name": "stdout",
          "text": [
            "Total records in users data frame 9944\n",
            "Total records in transaction data frame 688651\n",
            "Total records in countries data frame 226\n",
            "Total records in currency_details data frame 184\n"
          ]
        }
      ]
    },
    {
      "cell_type": "markdown",
      "source": [
        "Stiching Data Together"
      ],
      "metadata": {
        "id": "cDg9AZo51q-I"
      }
    },
    {
      "cell_type": "code",
      "source": [
        "cust = users.merge(transactions,left_on = 'ID',right_on='USER_ID',how='inner')"
      ],
      "metadata": {
        "id": "ww3t-RwdyIww"
      },
      "execution_count": 9,
      "outputs": []
    },
    {
      "cell_type": "code",
      "source": [
        "cust = cust.merge(countries,left_on = 'COUNTRY',right_on='CODE',how='inner')"
      ],
      "metadata": {
        "id": "i6GucHNzyLzc"
      },
      "execution_count": 17,
      "outputs": []
    },
    {
      "cell_type": "code",
      "source": [
        "customer_data =  cust.merge(currency_details,left_on = 'CURRENCY',right_on='CCY',how='inner')"
      ],
      "metadata": {
        "id": "vdEVbhFry8Ww"
      },
      "execution_count": 22,
      "outputs": []
    },
    {
      "cell_type": "code",
      "source": [
        "#user status - STATE_x user_state\n",
        "#transaction status - STATE_y transaction_state\n",
        "# user id - ID_x\tuser_id\n",
        "# transaction id - ID_y transaction_id\n",
        "# user creation date - CREATED_DATE_x user_creation_date\n",
        "# transaction create date - CREATED_DATE_y transaction_creation_date\n",
        "\n",
        "cols_rename = {'STATE_x' : 'user_state', \"STATE_y\":\"transaction_state\", \"ID_x\":'user_id',\"ID_y\":\"transaction_id\",\"CREATED_DATE_x\":\"user_creation_date\",\"CREATED_DATE_y\":\"transaction_creation_date\"}\n",
        "customer_data.rename(columns= cols_rename,inplace=True)"
      ],
      "metadata": {
        "id": "dMJu36F_1a7T"
      },
      "execution_count": 38,
      "outputs": []
    },
    {
      "cell_type": "code",
      "source": [
        "#lowercasing dataframe headers\n",
        "customer_data.columns = [x.lower() for x in customer_data.columns]"
      ],
      "metadata": {
        "id": "xnnZfpJC5RC6"
      },
      "execution_count": 40,
      "outputs": []
    },
    {
      "cell_type": "code",
      "source": [
        "# reducing columns - code,ccy\n",
        "customer_data.drop(['code','ccy'], axis=1, inplace = True)"
      ],
      "metadata": {
        "id": "Ci3JU1166G6x"
      },
      "execution_count": 42,
      "outputs": []
    },
    {
      "cell_type": "code",
      "source": [
        "print(\"Combined dataframes column count is \" +str(len(customer_data.columns)))"
      ],
      "metadata": {
        "colab": {
          "base_uri": "https://localhost:8080/"
        },
        "id": "CPYXNAb76aHd",
        "outputId": "765af3ba-a4ca-432d-dfc6-1c7b1f0950cc"
      },
      "execution_count": 46,
      "outputs": [
        {
          "output_type": "stream",
          "name": "stdout",
          "text": [
            "Combined dataframes column count is 29\n"
          ]
        }
      ]
    },
    {
      "cell_type": "code",
      "source": [
        "missing_data = customer_data.isnull().sum()\n",
        "\n",
        "# Visualize missing data\n",
        "plt.figure(figsize=(10, 6))\n",
        "sns.heatmap(customer_data.isnull(), cbar=False, cmap='viridis')\n",
        "plt.title('Missing Data Heatmap')\n",
        "plt.show()"
      ],
      "metadata": {
        "colab": {
          "base_uri": "https://localhost:8080/",
          "height": 712
        },
        "id": "FkAwTS2E651X",
        "outputId": "f64af4ff-dc46-4b9d-a753-a2fb9f52617f"
      },
      "execution_count": 51,
      "outputs": [
        {
          "output_type": "display_data",
          "data": {
            "text/plain": [
              "<Figure size 1000x600 with 1 Axes>"
            ],
            "image/png": "[encoded data removed]"
          },
          "metadata": {}
        }
      ]
    },
    {
      "cell_type": "code",
      "source": [
        "print(\"More than 50% of values are null in Merchant country  \" + str(\"{:.2%}\".format((customer_data['merchant_category'].isnull().sum()/len(customer_data)))))\n"
      ],
      "metadata": {
        "colab": {
          "base_uri": "https://localhost:8080/"
        },
        "id": "BFux7ry-7ch7",
        "outputId": "f0b93103-f08e-479c-a677-fe4372c995ee"
      },
      "execution_count": 59,
      "outputs": [
        {
          "output_type": "stream",
          "name": "stdout",
          "text": [
            "More than 50% of values are null in Merchant country  67.33%\n"
          ]
        }
      ]
    },
    {
      "cell_type": "code",
      "source": [
        "(customer_data['amount_usd'].isnull().sum()/len(customer_data))*100"
      ],
      "metadata": {
        "id": "tJe8Nmsd73hh"
      },
      "execution_count": null,
      "outputs": []
    },
    {
      "cell_type": "code",
      "source": [
        "customer_data.head(5)"
      ],
      "metadata": {
        "colab": {
          "base_uri": "https://localhost:8080/",
          "height": 452
        },
        "id": "umLJigDw1X9W",
        "outputId": "5ecdb5d0-0f2e-4d83-f2c8-c19e5dc5e987"
      },
      "execution_count": 43,
      "outputs": [
        {
          "output_type": "execute_result",
          "data": {
            "text/plain": [
              "                                user_id  has_email   phone_country  \\\n",
              "0  1872820f-e3ac-4c02-bdc7-727897b60043          1  GB||JE||IM||GG   \n",
              "1  1872820f-e3ac-4c02-bdc7-727897b60043          1  GB||JE||IM||GG   \n",
              "2  1872820f-e3ac-4c02-bdc7-727897b60043          1  GB||JE||IM||GG   \n",
              "3  545ff94d-66f8-4bea-b398-84425fb2301e          1  GB||JE||IM||GG   \n",
              "4  545ff94d-66f8-4bea-b398-84425fb2301e          1  GB||JE||IM||GG   \n",
              "\n",
              "   is_fraudster terms_version          user_creation_date user_state country  \\\n",
              "0         False    2018-05-25  2017-08-06 07:33:33.341000     ACTIVE      GB   \n",
              "1         False    2018-05-25  2017-08-06 07:33:33.341000     ACTIVE      GB   \n",
              "2         False    2018-05-25  2017-08-06 07:33:33.341000     ACTIVE      GB   \n",
              "3         False    2018-01-01  2017-03-07 10:18:59.427000     ACTIVE      GB   \n",
              "4         False    2018-01-01  2017-03-07 10:18:59.427000     ACTIVE      GB   \n",
              "\n",
              "   birth_year     kyc  failed_sign_in_attempts currency  amount  \\\n",
              "0        1971  PASSED                        0      GBP   50000   \n",
              "1        1971  PASSED                        0      GBP    1000   \n",
              "2        1971  PASSED                        0      GBP     100   \n",
              "3        1982  PASSED                        0      GBP     500   \n",
              "4        1982  PASSED                        0      GBP     499   \n",
              "\n",
              "  transaction_state transaction_creation_date merchant_category  \\\n",
              "0         COMPLETED   2018-05-31 17:26:00.205               NaN   \n",
              "1         COMPLETED   2017-08-12 12:17:40.762               NaN   \n",
              "2          REVERTED   2017-08-12 12:17:31.607               NaN   \n",
              "3         COMPLETED   2018-07-03 14:05:18.666               NaN   \n",
              "4         COMPLETED   2018-07-03 14:04:11.554               NaN   \n",
              "\n",
              "  merchant_country entry_method                               user_id   type  \\\n",
              "0              NaN         misc  1872820f-e3ac-4c02-bdc7-727897b60043  TOPUP   \n",
              "1              NaN         misc  1872820f-e3ac-4c02-bdc7-727897b60043  TOPUP   \n",
              "2              NaN         misc  1872820f-e3ac-4c02-bdc7-727897b60043  TOPUP   \n",
              "3              NaN         misc  545ff94d-66f8-4bea-b398-84425fb2301e    P2P   \n",
              "4              NaN         misc  545ff94d-66f8-4bea-b398-84425fb2301e    P2P   \n",
              "\n",
              "     source                        transaction_id  amount_usd            name  \\\n",
              "0      HERA  29df55ae-accd-47c2-85f6-ed499703b75d     37130.0  United Kingdom   \n",
              "1      HERA  1a050680-bb84-436f-a93b-79b7e75775db       749.0  United Kingdom   \n",
              "2      HERA  826381fe-8248-4616-993d-ceb52fb04807        74.0  United Kingdom   \n",
              "3  INTERNAL  40ad821f-db81-4f8f-b7c6-6d7acc50e836       376.0  United Kingdom   \n",
              "4  INTERNAL  b0c2b678-fe57-4ced-b03c-43178c5834bd       375.0  United Kingdom   \n",
              "\n",
              "  code3  numcode  phonecode  exponent  is_crypto  \n",
              "0   gBR      826         44         2      False  \n",
              "1   gBR      826         44         2      False  \n",
              "2   gBR      826         44         2      False  \n",
              "3   gBR      826         44         2      False  \n",
              "4   gBR      826         44         2      False  "
            ],
            "text/html": [
              "\n",
              "  <div id=\"df-044fa1db-108e-478a-9489-fcc684bc2178\" class=\"colab-df-container\">\n",
              "    <div>\n",
              "<style scoped>\n",
              "    .dataframe tbody tr th:only-of-type {\n",
              "        vertical-align: middle;\n",
              "    }\n",
              "\n",
              "    .dataframe tbody tr th {\n",
              "        vertical-align: top;\n",
              "    }\n",
              "\n",
              "    .dataframe thead th {\n",
              "        text-align: right;\n",
              "    }\n",
              "</style>\n",
              "<table border=\"1\" class=\"dataframe\">\n",
              "  <thead>\n",
              "    <tr style=\"text-align: right;\">\n",
              "      <th></th>\n",
              "      <th>user_id</th>\n",
              "      <th>has_email</th>\n",
              "      <th>phone_country</th>\n",
              "      <th>is_fraudster</th>\n",
              "      <th>terms_version</th>\n",
              "      <th>user_creation_date</th>\n",
              "      <th>user_state</th>\n",
              "      <th>country</th>\n",
              "      <th>birth_year</th>\n",
              "      <th>kyc</th>\n",
              "      <th>failed_sign_in_attempts</th>\n",
              "      <th>currency</th>\n",
              "      <th>amount</th>\n",
              "      <th>transaction_state</th>\n",
              "      <th>transaction_creation_date</th>\n",
              "      <th>merchant_category</th>\n",
              "      <th>merchant_country</th>\n",
              "      <th>entry_method</th>\n",
              "      <th>user_id</th>\n",
              "      <th>type</th>\n",
              "      <th>source</th>\n",
              "      <th>transaction_id</th>\n",
              "      <th>amount_usd</th>\n",
              "      <th>name</th>\n",
              "      <th>code3</th>\n",
              "      <th>numcode</th>\n",
              "      <th>phonecode</th>\n",
              "      <th>exponent</th>\n",
              "      <th>is_crypto</th>\n",
              "    </tr>\n",
              "  </thead>\n",
              "  <tbody>\n",
              "    <tr>\n",
              "      <th>0</th>\n",
              "      <td>1872820f-e3ac-4c02-bdc7-727897b60043</td>\n",
              "      <td>1</td>\n",
              "      <td>GB||JE||IM||GG</td>\n",
              "      <td>False</td>\n",
              "      <td>2018-05-25</td>\n",
              "      <td>2017-08-06 07:33:33.341000</td>\n",
              "      <td>ACTIVE</td>\n",
              "      <td>GB</td>\n",
              "      <td>1971</td>\n",
              "      <td>PASSED</td>\n",
              "      <td>0</td>\n",
              "      <td>GBP</td>\n",
              "      <td>50000</td>\n",
              "      <td>COMPLETED</td>\n",
              "      <td>2018-05-31 17:26:00.205</td>\n",
              "      <td>NaN</td>\n",
              "      <td>NaN</td>\n",
              "      <td>misc</td>\n",
              "      <td>1872820f-e3ac-4c02-bdc7-727897b60043</td>\n",
              "      <td>TOPUP</td>\n",
              "      <td>HERA</td>\n",
              "      <td>29df55ae-accd-47c2-85f6-ed499703b75d</td>\n",
              "      <td>37130.0</td>\n",
              "      <td>United Kingdom</td>\n",
              "      <td>gBR</td>\n",
              "      <td>826</td>\n",
              "      <td>44</td>\n",
              "      <td>2</td>\n",
              "      <td>False</td>\n",
              "    </tr>\n",
              "    <tr>\n",
              "      <th>1</th>\n",
              "      <td>1872820f-e3ac-4c02-bdc7-727897b60043</td>\n",
              "      <td>1</td>\n",
              "      <td>GB||JE||IM||GG</td>\n",
              "      <td>False</td>\n",
              "      <td>2018-05-25</td>\n",
              "      <td>2017-08-06 07:33:33.341000</td>\n",
              "      <td>ACTIVE</td>\n",
              "      <td>GB</td>\n",
              "      <td>1971</td>\n",
              "      <td>PASSED</td>\n",
              "      <td>0</td>\n",
              "      <td>GBP</td>\n",
              "      <td>1000</td>\n",
              "      <td>COMPLETED</td>\n",
              "      <td>2017-08-12 12:17:40.762</td>\n",
              "      <td>NaN</td>\n",
              "      <td>NaN</td>\n",
              "      <td>misc</td>\n",
              "      <td>1872820f-e3ac-4c02-bdc7-727897b60043</td>\n",
              "      <td>TOPUP</td>\n",
              "      <td>HERA</td>\n",
              "      <td>1a050680-bb84-436f-a93b-79b7e75775db</td>\n",
              "      <td>749.0</td>\n",
              "      <td>United Kingdom</td>\n",
              "      <td>gBR</td>\n",
              "      <td>826</td>\n",
              "      <td>44</td>\n",
              "      <td>2</td>\n",
              "      <td>False</td>\n",
              "    </tr>\n",
              "    <tr>\n",
              "      <th>2</th>\n",
              "      <td>1872820f-e3ac-4c02-bdc7-727897b60043</td>\n",
              "      <td>1</td>\n",
              "      <td>GB||JE||IM||GG</td>\n",
              "      <td>False</td>\n",
              "      <td>2018-05-25</td>\n",
              "      <td>2017-08-06 07:33:33.341000</td>\n",
              "      <td>ACTIVE</td>\n",
              "      <td>GB</td>\n",
              "      <td>1971</td>\n",
              "      <td>PASSED</td>\n",
              "      <td>0</td>\n",
              "      <td>GBP</td>\n",
              "      <td>100</td>\n",
              "      <td>REVERTED</td>\n",
              "      <td>2017-08-12 12:17:31.607</td>\n",
              "      <td>NaN</td>\n",
              "      <td>NaN</td>\n",
              "      <td>misc</td>\n",
              "      <td>1872820f-e3ac-4c02-bdc7-727897b60043</td>\n",
              "      <td>TOPUP</td>\n",
              "      <td>HERA</td>\n",
              "      <td>826381fe-8248-4616-993d-ceb52fb04807</td>\n",
              "      <td>74.0</td>\n",
              "      <td>United Kingdom</td>\n",
              "      <td>gBR</td>\n",
              "      <td>826</td>\n",
              "      <td>44</td>\n",
              "      <td>2</td>\n",
              "      <td>False</td>\n",
              "    </tr>\n",
              "    <tr>\n",
              "      <th>3</th>\n",
              "      <td>545ff94d-66f8-4bea-b398-84425fb2301e</td>\n",
              "      <td>1</td>\n",
              "      <td>GB||JE||IM||GG</td>\n",
              "      <td>False</td>\n",
              "      <td>2018-01-01</td>\n",
              "      <td>2017-03-07 10:18:59.427000</td>\n",
              "      <td>ACTIVE</td>\n",
              "      <td>GB</td>\n",
              "      <td>1982</td>\n",
              "      <td>PASSED</td>\n",
              "      <td>0</td>\n",
              "      <td>GBP</td>\n",
              "      <td>500</td>\n",
              "      <td>COMPLETED</td>\n",
              "      <td>2018-07-03 14:05:18.666</td>\n",
              "      <td>NaN</td>\n",
              "      <td>NaN</td>\n",
              "      <td>misc</td>\n",
              "      <td>545ff94d-66f8-4bea-b398-84425fb2301e</td>\n",
              "      <td>P2P</td>\n",
              "      <td>INTERNAL</td>\n",
              "      <td>40ad821f-db81-4f8f-b7c6-6d7acc50e836</td>\n",
              "      <td>376.0</td>\n",
              "      <td>United Kingdom</td>\n",
              "      <td>gBR</td>\n",
              "      <td>826</td>\n",
              "      <td>44</td>\n",
              "      <td>2</td>\n",
              "      <td>False</td>\n",
              "    </tr>\n",
              "    <tr>\n",
              "      <th>4</th>\n",
              "      <td>545ff94d-66f8-4bea-b398-84425fb2301e</td>\n",
              "      <td>1</td>\n",
              "      <td>GB||JE||IM||GG</td>\n",
              "      <td>False</td>\n",
              "      <td>2018-01-01</td>\n",
              "      <td>2017-03-07 10:18:59.427000</td>\n",
              "      <td>ACTIVE</td>\n",
              "      <td>GB</td>\n",
              "      <td>1982</td>\n",
              "      <td>PASSED</td>\n",
              "      <td>0</td>\n",
              "      <td>GBP</td>\n",
              "      <td>499</td>\n",
              "      <td>COMPLETED</td>\n",
              "      <td>2018-07-03 14:04:11.554</td>\n",
              "      <td>NaN</td>\n",
              "      <td>NaN</td>\n",
              "      <td>misc</td>\n",
              "      <td>545ff94d-66f8-4bea-b398-84425fb2301e</td>\n",
              "      <td>P2P</td>\n",
              "      <td>INTERNAL</td>\n",
              "      <td>b0c2b678-fe57-4ced-b03c-43178c5834bd</td>\n",
              "      <td>375.0</td>\n",
              "      <td>United Kingdom</td>\n",
              "      <td>gBR</td>\n",
              "      <td>826</td>\n",
              "      <td>44</td>\n",
              "      <td>2</td>\n",
              "      <td>False</td>\n",
              "    </tr>\n",
              "  </tbody>\n",
              "</table>\n",
              "</div>\n",
              "    <div class=\"colab-df-buttons\">\n",
              "\n",
              "  <div class=\"colab-df-container\">\n",
              "    <button class=\"colab-df-convert\" onclick=\"convertToInteractive('df-044fa1db-108e-478a-9489-fcc684bc2178')\"\n",
              "            title=\"Convert this dataframe to an interactive table.\"\n",
              "            style=\"display:none;\">\n",
              "\n",
              "  <svg xmlns=\"http://www.w3.org/2000/svg\" height=\"24px\" viewBox=\"0 -960 960 960\">\n",
              "    <path d=\"M120-120v-720h720v720H120Zm60-500h600v-160H180v160Zm220 220h160v-160H400v160Zm0 220h160v-160H400v160ZM180-400h160v-160H180v160Zm440 0h160v-160H620v160ZM180-180h160v-160H180v160Zm440 0h160v-160H620v160Z\"/>\n",
              "  </svg>\n",
              "    </button>\n",
              "\n",
              "  <style>\n",
              "    .colab-df-container {\n",
              "      display:flex;\n",
              "      gap: 12px;\n",
              "    }\n",
              "\n",
              "    .colab-df-convert {\n",
              "      background-color: #E8F0FE;\n",
              "      border: none;\n",
              "      border-radius: 50%;\n",
              "      cursor: pointer;\n",
              "      display: none;\n",
              "      fill: #1967D2;\n",
              "      height: 32px;\n",
              "      padding: 0 0 0 0;\n",
              "      width: 32px;\n",
              "    }\n",
              "\n",
              "    .colab-df-convert:hover {\n",
              "      background-color: #E2EBFA;\n",
              "      box-shadow: 0px 1px 2px rgba(60, 64, 67, 0.3), 0px 1px 3px 1px rgba(60, 64, 67, 0.15);\n",
              "      fill: #174EA6;\n",
              "    }\n",
              "\n",
              "    .colab-df-buttons div {\n",
              "      margin-bottom: 4px;\n",
              "    }\n",
              "\n",
              "    [theme=dark] .colab-df-convert {\n",
              "      background-color: #3B4455;\n",
              "      fill: #D2E3FC;\n",
              "    }\n",
              "\n",
              "    [theme=dark] .colab-df-convert:hover {\n",
              "      background-color: #434B5C;\n",
              "      box-shadow: 0px 1px 3px 1px rgba(0, 0, 0, 0.15);\n",
              "      filter: drop-shadow(0px 1px 2px rgba(0, 0, 0, 0.3));\n",
              "      fill: #FFFFFF;\n",
              "    }\n",
              "  </style>\n",
              "\n",
              "    <script>\n",
              "      const buttonEl =\n",
              "        document.querySelector('#df-044fa1db-108e-478a-9489-fcc684bc2178 button.colab-df-convert');\n",
              "      buttonEl.style.display =\n",
              "        google.colab.kernel.accessAllowed ? 'block' : 'none';\n",
              "\n",
              "      async function convertToInteractive(key) {\n",
              "        const element = document.querySelector('#df-044fa1db-108e-478a-9489-fcc684bc2178');\n",
              "        const dataTable =\n",
              "          await google.colab.kernel.invokeFunction('convertToInteractive',\n",
              "                                                    [key], {});\n",
              "        if (!dataTable) return;\n",
              "\n",
              "        const docLinkHtml = 'Like what you see? Visit the ' +\n",
              "          '<a target=\"_blank\" href=https://colab.research.google.com/notebooks/data_table.ipynb>data table notebook</a>'\n",
              "          + ' to learn more about interactive tables.';\n",
              "        element.innerHTML = '';\n",
              "        dataTable['output_type'] = 'display_data';\n",
              "        await google.colab.output.renderOutput(dataTable, element);\n",
              "        const docLink = document.createElement('div');\n",
              "        docLink.innerHTML = docLinkHtml;\n",
              "        element.appendChild(docLink);\n",
              "      }\n",
              "    </script>\n",
              "  </div>\n",
              "\n",
              "\n",
              "<div id=\"df-f1804e80-d824-4073-aa7d-f6d2cb389521\">\n",
              "  <button class=\"colab-df-quickchart\" onclick=\"quickchart('df-f1804e80-d824-4073-aa7d-f6d2cb389521')\"\n",
              "            title=\"Suggest charts\"\n",
              "            style=\"display:none;\">\n",
              "\n",
              "<svg xmlns=\"http://www.w3.org/2000/svg\" height=\"24px\"viewBox=\"0 0 24 24\"\n",
              "     width=\"24px\">\n",
              "    <g>\n",
              "        <path d=\"M19 3H5c-1.1 0-2 .9-2 2v14c0 1.1.9 2 2 2h14c1.1 0 2-.9 2-2V5c0-1.1-.9-2-2-2zM9 17H7v-7h2v7zm4 0h-2V7h2v10zm4 0h-2v-4h2v4z\"/>\n",
              "    </g>\n",
              "</svg>\n",
              "  </button>\n",
              "\n",
              "<style>\n",
              "  .colab-df-quickchart {\n",
              "      --bg-color: #E8F0FE;\n",
              "      --fill-color: #1967D2;\n",
              "      --hover-bg-color: #E2EBFA;\n",
              "      --hover-fill-color: #174EA6;\n",
              "      --disabled-fill-color: #AAA;\n",
              "      --disabled-bg-color: #DDD;\n",
              "  }\n",
              "\n",
              "  [theme=dark] .colab-df-quickchart {\n",
              "      --bg-color: #3B4455;\n",
              "      --fill-color: #D2E3FC;\n",
              "      --hover-bg-color: #434B5C;\n",
              "      --hover-fill-color: #FFFFFF;\n",
              "      --disabled-bg-color: #3B4455;\n",
              "      --disabled-fill-color: #666;\n",
              "  }\n",
              "\n",
              "  .colab-df-quickchart {\n",
              "    background-color: var(--bg-color);\n",
              "    border: none;\n",
              "    border-radius: 50%;\n",
              "    cursor: pointer;\n",
              "    display: none;\n",
              "    fill: var(--fill-color);\n",
              "    height: 32px;\n",
              "    padding: 0;\n",
              "    width: 32px;\n",
              "  }\n",
              "\n",
              "  .colab-df-quickchart:hover {\n",
              "    background-color: var(--hover-bg-color);\n",
              "    box-shadow: 0 1px 2px rgba(60, 64, 67, 0.3), 0 1px 3px 1px rgba(60, 64, 67, 0.15);\n",
              "    fill: var(--button-hover-fill-color);\n",
              "  }\n",
              "\n",
              "  .colab-df-quickchart-complete:disabled,\n",
              "  .colab-df-quickchart-complete:disabled:hover {\n",
              "    background-color: var(--disabled-bg-color);\n",
              "    fill: var(--disabled-fill-color);\n",
              "    box-shadow: none;\n",
              "  }\n",
              "\n",
              "  .colab-df-spinner {\n",
              "    border: 2px solid var(--fill-color);\n",
              "    border-color: transparent;\n",
              "    border-bottom-color: var(--fill-color);\n",
              "    animation:\n",
              "      spin 1s steps(1) infinite;\n",
              "  }\n",
              "\n",
              "  @keyframes spin {\n",
              "    0% {\n",
              "      border-color: transparent;\n",
              "      border-bottom-color: var(--fill-color);\n",
              "      border-left-color: var(--fill-color);\n",
              "    }\n",
              "    20% {\n",
              "      border-color: transparent;\n",
              "      border-left-color: var(--fill-color);\n",
              "      border-top-color: var(--fill-color);\n",
              "    }\n",
              "    30% {\n",
              "      border-color: transparent;\n",
              "      border-left-color: var(--fill-color);\n",
              "      border-top-color: var(--fill-color);\n",
              "      border-right-color: var(--fill-color);\n",
              "    }\n",
              "    40% {\n",
              "      border-color: transparent;\n",
              "      border-right-color: var(--fill-color);\n",
              "      border-top-color: var(--fill-color);\n",
              "    }\n",
              "    60% {\n",
              "      border-color: transparent;\n",
              "      border-right-color: var(--fill-color);\n",
              "    }\n",
              "    80% {\n",
              "      border-color: transparent;\n",
              "      border-right-color: var(--fill-color);\n",
              "      border-bottom-color: var(--fill-color);\n",
              "    }\n",
              "    90% {\n",
              "      border-color: transparent;\n",
              "      border-bottom-color: var(--fill-color);\n",
              "    }\n",
              "  }\n",
              "</style>\n",
              "\n",
              "  <script>\n",
              "    async function quickchart(key) {\n",
              "      const quickchartButtonEl =\n",
              "        document.querySelector('#' + key + ' button');\n",
              "      quickchartButtonEl.disabled = true;  // To prevent multiple clicks.\n",
              "      quickchartButtonEl.classList.add('colab-df-spinner');\n",
              "      try {\n",
              "        const charts = await google.colab.kernel.invokeFunction(\n",
              "            'suggestCharts', [key], {});\n",
              "      } catch (error) {\n",
              "        console.error('Error during call to suggestCharts:', error);\n",
              "      }\n",
              "      quickchartButtonEl.classList.remove('colab-df-spinner');\n",
              "      quickchartButtonEl.classList.add('colab-df-quickchart-complete');\n",
              "    }\n",
              "    (() => {\n",
              "      let quickchartButtonEl =\n",
              "        document.querySelector('#df-f1804e80-d824-4073-aa7d-f6d2cb389521 button');\n",
              "      quickchartButtonEl.style.display =\n",
              "        google.colab.kernel.accessAllowed ? 'block' : 'none';\n",
              "    })();\n",
              "  </script>\n",
              "</div>\n",
              "    </div>\n",
              "  </div>\n"
            ]
          },
          "metadata": {},
          "execution_count": 43
        }
      ]
    },
    {
      "cell_type": "code",
      "source": [],
      "metadata": {
        "id": "FUYyMX5j47oo"
      },
      "execution_count": null,
      "outputs": []
    }
  ]
}